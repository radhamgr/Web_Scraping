{
 "cells": [
  {
   "cell_type": "code",
   "execution_count": 1,
   "metadata": {},
   "outputs": [],
   "source": [
    "# import required libraries\n",
    "import requests\n",
    "from bs4 import BeautifulSoup\n",
    "import numpy as np\n",
    "import pandas as pd\n"
   ]
  },
  {
   "cell_type": "code",
   "execution_count": 2,
   "metadata": {},
   "outputs": [],
   "source": [
    "import csv\n",
    "f = csv.writer(open('z-artist-name.csv','w'))\n",
    "f.writerow(['Name','Link'])\n",
    "pages = []\n",
    "for i in range(1,5):\n",
    "    url = 'https://web.archive.org/web/20121007172955/https://www.nga.gov/collection/anZ' + str(i) + '.htm'\n",
    "    pages.append(url)\n",
    "    \n",
    "    for item in pages:\n",
    "        page = requests.get(item).text\n",
    "        soup = BeautifulSoup(page, 'html.parser')\n",
    "        last_links = soup.find(class_='AlphaNav')\n",
    "        last_links.decompose()\n",
    "        # Pull all text from the BodyText div\n",
    "        artist_name_list = soup.find(class_='BodyText')\n",
    "        # Pull text from all instances of <a> tag within BodyText div\n",
    "        artist_name_list_items = artist_name_list.find_all('a')\n",
    "\n",
    "\n",
    "        # Use .contents to pull out the <a> tag’s children\n",
    "        for artist_name in artist_name_list_items:\n",
    "            \n",
    "            names = artist_name.contents[0]\n",
    "            links = 'https://web.archive.org' + artist_name.get('href')\n",
    "            \n",
    "            f.writerow([names, links])"
   ]
  },
  {
   "cell_type": "code",
   "execution_count": 3,
   "metadata": {},
   "outputs": [
    {
     "data": {
      "text/html": [
       "<div>\n",
       "<style scoped>\n",
       "    .dataframe tbody tr th:only-of-type {\n",
       "        vertical-align: middle;\n",
       "    }\n",
       "\n",
       "    .dataframe tbody tr th {\n",
       "        vertical-align: top;\n",
       "    }\n",
       "\n",
       "    .dataframe thead th {\n",
       "        text-align: right;\n",
       "    }\n",
       "</style>\n",
       "<table border=\"1\" class=\"dataframe\">\n",
       "  <thead>\n",
       "    <tr style=\"text-align: right;\">\n",
       "      <th></th>\n",
       "      <th>Name</th>\n",
       "      <th>Link</th>\n",
       "    </tr>\n",
       "  </thead>\n",
       "  <tbody>\n",
       "    <tr>\n",
       "      <td>0</td>\n",
       "      <td>Zabaglia, Niccola</td>\n",
       "      <td>https://web.archive.org/web/20121007172955/htt...</td>\n",
       "    </tr>\n",
       "    <tr>\n",
       "      <td>1</td>\n",
       "      <td>Zaccone, Fabian</td>\n",
       "      <td>https://web.archive.org/web/20121007172955/htt...</td>\n",
       "    </tr>\n",
       "    <tr>\n",
       "      <td>2</td>\n",
       "      <td>Zadkine, Ossip</td>\n",
       "      <td>https://web.archive.org/web/20121007172955/htt...</td>\n",
       "    </tr>\n",
       "    <tr>\n",
       "      <td>3</td>\n",
       "      <td>Zaech, Bernhard</td>\n",
       "      <td>https://web.archive.org/web/20121007172955/htt...</td>\n",
       "    </tr>\n",
       "    <tr>\n",
       "      <td>4</td>\n",
       "      <td>Zagar, Jacob</td>\n",
       "      <td>https://web.archive.org/web/20121007172955/htt...</td>\n",
       "    </tr>\n",
       "    <tr>\n",
       "      <td>5</td>\n",
       "      <td>Zagroba, Idalia</td>\n",
       "      <td>https://web.archive.org/web/20121007172955/htt...</td>\n",
       "    </tr>\n",
       "    <tr>\n",
       "      <td>6</td>\n",
       "      <td>Zaidenberg, A.</td>\n",
       "      <td>https://web.archive.org/web/20121007172955/htt...</td>\n",
       "    </tr>\n",
       "    <tr>\n",
       "      <td>7</td>\n",
       "      <td>Zaidenberg, Arthur</td>\n",
       "      <td>https://web.archive.org/web/20121007172955/htt...</td>\n",
       "    </tr>\n",
       "    <tr>\n",
       "      <td>8</td>\n",
       "      <td>Zaisinger, Matthäus</td>\n",
       "      <td>https://web.archive.org/web/20121007172955/htt...</td>\n",
       "    </tr>\n",
       "    <tr>\n",
       "      <td>9</td>\n",
       "      <td>Zajac, Jack</td>\n",
       "      <td>https://web.archive.org/web/20121007172955/htt...</td>\n",
       "    </tr>\n",
       "  </tbody>\n",
       "</table>\n",
       "</div>"
      ],
      "text/plain": [
       "                  Name                                               Link\n",
       "0    Zabaglia, Niccola  https://web.archive.org/web/20121007172955/htt...\n",
       "1      Zaccone, Fabian  https://web.archive.org/web/20121007172955/htt...\n",
       "2       Zadkine, Ossip  https://web.archive.org/web/20121007172955/htt...\n",
       "3      Zaech, Bernhard  https://web.archive.org/web/20121007172955/htt...\n",
       "4         Zagar, Jacob  https://web.archive.org/web/20121007172955/htt...\n",
       "5      Zagroba, Idalia  https://web.archive.org/web/20121007172955/htt...\n",
       "6       Zaidenberg, A.  https://web.archive.org/web/20121007172955/htt...\n",
       "7   Zaidenberg, Arthur  https://web.archive.org/web/20121007172955/htt...\n",
       "8  Zaisinger, Matthäus  https://web.archive.org/web/20121007172955/htt...\n",
       "9          Zajac, Jack  https://web.archive.org/web/20121007172955/htt..."
      ]
     },
     "execution_count": 3,
     "metadata": {},
     "output_type": "execute_result"
    }
   ],
   "source": [
    "data = pd.read_csv('z-artist-name.csv',encoding='latin-1')\n",
    "data.head(10)"
   ]
  },
  {
   "cell_type": "code",
   "execution_count": null,
   "metadata": {},
   "outputs": [],
   "source": []
  }
 ],
 "metadata": {
  "kernelspec": {
   "display_name": "Python 3",
   "language": "python",
   "name": "python3"
  },
  "language_info": {
   "codemirror_mode": {
    "name": "ipython",
    "version": 3
   },
   "file_extension": ".py",
   "mimetype": "text/x-python",
   "name": "python",
   "nbconvert_exporter": "python",
   "pygments_lexer": "ipython3",
   "version": "3.7.3"
  }
 },
 "nbformat": 4,
 "nbformat_minor": 2
}
